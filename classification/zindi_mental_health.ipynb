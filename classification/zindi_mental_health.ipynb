{
 "cells": [
  {
   "cell_type": "markdown",
   "metadata": {},
   "source": [
    "## Zindi Tech4MentalHealth\n",
    "\n",
    "https://zindi.africa/competitions/basic-needs-basic-rights-kenya-tech4mentalhealth/data"
   ]
  },
  {
   "cell_type": "code",
   "execution_count": 1,
   "metadata": {},
   "outputs": [],
   "source": [
    "# отключение ворнингов\n",
    "import warnings\n",
    "warnings.filterwarnings('ignore')\n",
    "\n",
    "import collections\n",
    "import os\n",
    "import re\n",
    "import numpy as np\n",
    "import pandas as pd\n",
    "import seaborn as sns\n",
    "from tqdm import tqdm\n",
    "from matplotlib import pyplot as plt\n",
    "\n",
    "\n",
    "from sklearn.model_selection import train_test_split, cross_val_score\n",
    "from sklearn.metrics import accuracy_score, log_loss\n",
    "from scipy.sparse import csr_matrix, hstack"
   ]
  },
  {
   "cell_type": "code",
   "execution_count": 2,
   "metadata": {},
   "outputs": [
    {
     "name": "stdout",
     "output_type": "stream",
     "text": [
      "Populating the interactive namespace from numpy and matplotlib\n"
     ]
    }
   ],
   "source": [
    "# отображение столбцов в пандас\n",
    "pd.set_option('display.max_columns', 100)\n",
    "\n",
    "# настройка размеров графиков\n",
    "%pylab inline\n",
    "pylab.rcParams['figure.figsize'] = (10, 8)\n",
    "\n",
    "# настройка стиля графиков\n",
    "plt.style.use('fivethirtyeight')"
   ]
  },
  {
   "cell_type": "code",
   "execution_count": 3,
   "metadata": {},
   "outputs": [
    {
     "data": {
      "text/html": [
       "<div>\n",
       "<style scoped>\n",
       "    .dataframe tbody tr th:only-of-type {\n",
       "        vertical-align: middle;\n",
       "    }\n",
       "\n",
       "    .dataframe tbody tr th {\n",
       "        vertical-align: top;\n",
       "    }\n",
       "\n",
       "    .dataframe thead th {\n",
       "        text-align: right;\n",
       "    }\n",
       "</style>\n",
       "<table border=\"1\" class=\"dataframe\">\n",
       "  <thead>\n",
       "    <tr style=\"text-align: right;\">\n",
       "      <th></th>\n",
       "      <th>ID</th>\n",
       "      <th>text</th>\n",
       "      <th>label</th>\n",
       "    </tr>\n",
       "  </thead>\n",
       "  <tbody>\n",
       "    <tr>\n",
       "      <th>0</th>\n",
       "      <td>SUAVK39Z</td>\n",
       "      <td>I feel that it was better I dieAm happy</td>\n",
       "      <td>Depression</td>\n",
       "    </tr>\n",
       "    <tr>\n",
       "      <th>1</th>\n",
       "      <td>9JDAGUV3</td>\n",
       "      <td>Why do I get hallucinations?</td>\n",
       "      <td>Drugs</td>\n",
       "    </tr>\n",
       "    <tr>\n",
       "      <th>2</th>\n",
       "      <td>419WR1LQ</td>\n",
       "      <td>I am stresseed due to lack of financial suppor...</td>\n",
       "      <td>Depression</td>\n",
       "    </tr>\n",
       "    <tr>\n",
       "      <th>3</th>\n",
       "      <td>6UY7DX6Q</td>\n",
       "      <td>Why is life important?</td>\n",
       "      <td>Suicide</td>\n",
       "    </tr>\n",
       "    <tr>\n",
       "      <th>4</th>\n",
       "      <td>FYC0FTFB</td>\n",
       "      <td>How could I be helped to go through the depres...</td>\n",
       "      <td>Depression</td>\n",
       "    </tr>\n",
       "  </tbody>\n",
       "</table>\n",
       "</div>"
      ],
      "text/plain": [
       "         ID                                               text       label\n",
       "0  SUAVK39Z            I feel that it was better I dieAm happy  Depression\n",
       "1  9JDAGUV3                       Why do I get hallucinations?       Drugs\n",
       "2  419WR1LQ  I am stresseed due to lack of financial suppor...  Depression\n",
       "3  6UY7DX6Q                             Why is life important?     Suicide\n",
       "4  FYC0FTFB  How could I be helped to go through the depres...  Depression"
      ]
     },
     "execution_count": 3,
     "metadata": {},
     "output_type": "execute_result"
    }
   ],
   "source": [
    "# читаем данные\n",
    "\n",
    "df = pd.read_csv(os.path.join('data', 'Train.csv'))\n",
    "\n",
    "# выведу 5 записей для проверки\n",
    "df.head(5)"
   ]
  },
  {
   "cell_type": "markdown",
   "metadata": {},
   "source": [
    "## Подготовка данных"
   ]
  },
  {
   "cell_type": "code",
   "execution_count": 4,
   "metadata": {},
   "outputs": [],
   "source": [
    "# закодирую целевую переменную\n",
    "\n",
    "num_targets = df['label'].nunique()\n",
    "\n",
    "targets_encoder = dict(zip(df['label'].unique(), range(num_targets)))\n",
    "df['label'] = df['label'].map(targets_encoder)"
   ]
  },
  {
   "cell_type": "code",
   "execution_count": 5,
   "metadata": {},
   "outputs": [],
   "source": [
    "# разобью на трейн и валидацию\n",
    "\n",
    "X = df['text']\n",
    "y = df['label']\n",
    "\n",
    "# воспроизводимость\n",
    "rs = np.random.seed(0)\n",
    "\n",
    "X_train, X_valid, y_train, y_valid = train_test_split(X, y, test_size=0.2,\n",
    "                                                      random_state=rs, stratify=y)"
   ]
  },
  {
   "cell_type": "code",
   "execution_count": 6,
   "metadata": {},
   "outputs": [],
   "source": [
    "# токенизация текста\n",
    "\n",
    "token_re = re.compile(r'[\\w\\d]+')\n",
    "\n",
    "def tokenize_text_simple_regex(txt, regex=r'[\\w\\d]+', min_token_size=5):\n",
    "    \"\"\"\n",
    "    Tokenize single text\n",
    "    :param txt: text\n",
    "    :param regex: regular expression pattern\n",
    "    :param min_token_size: \n",
    "    \"\"\"\n",
    "    txt = txt.lower()\n",
    "    token_re = re.compile(regex)\n",
    "    all_tokens = token_re.findall(txt)\n",
    "    return [token for token in all_tokens if len(token) >= min_token_size]\n",
    "\n",
    "\n",
    "def tokenize_corpus(texts, tokenizer=tokenize_text_simple_regex, **tokenizer_kwargs):\n",
    "    \"\"\"\n",
    "    Tokenize corpus of texts\n",
    "    :param texts: array of texts\n",
    "    :param tokenizer: tokenizer function\n",
    "    \"\"\"\n",
    "    return [tokenizer(text, **tokenizer_kwargs) for text in texts]\n",
    "\n",
    "\n",
    "def lists_to_text_array(texts):\n",
    "    \"\"\"\n",
    "    Transforms array of tokens to array of texts\n",
    "    :param texts: array of texts\n",
    "    \"\"\"\n",
    "    return np.array([' '.join(text) for text in texts])"
   ]
  },
  {
   "cell_type": "code",
   "execution_count": 7,
   "metadata": {},
   "outputs": [],
   "source": [
    "# токенизируем\n",
    "train_tokenized = tokenize_corpus(X_train.values)\n",
    "test_tokenized = tokenize_corpus(X_valid.values)\n",
    "\n",
    "# возвращаемся к массиву текстов\n",
    "train_tokenized = lists_to_text_array(train_tokenized)\n",
    "test_tokenized = lists_to_text_array(test_tokenized)"
   ]
  },
  {
   "cell_type": "markdown",
   "metadata": {},
   "source": [
    "## Bag of Words"
   ]
  },
  {
   "cell_type": "code",
   "execution_count": 8,
   "metadata": {},
   "outputs": [],
   "source": [
    "# импорт библиотек\n",
    "\n",
    "from sklearn.feature_extraction.text import CountVectorizer, TfidfVectorizer\n",
    "from sklearn.linear_model import LogisticRegression\n",
    "from sklearn.neighbors import KNeighborsClassifier\n",
    "from sklearn.preprocessing import StandardScaler\n",
    "from lightgbm import LGBMClassifier"
   ]
  },
  {
   "cell_type": "code",
   "execution_count": 9,
   "metadata": {},
   "outputs": [],
   "source": [
    "# преобразую в bag of words вектора\n",
    "vectorizer = CountVectorizer()\n",
    "\n",
    "train_sparse = vectorizer.fit_transform(train_tokenized)\n",
    "test_sparse = vectorizer.transform(test_tokenized)"
   ]
  },
  {
   "cell_type": "markdown",
   "metadata": {},
   "source": [
    "## Обучение моделей"
   ]
  },
  {
   "cell_type": "code",
   "execution_count": 10,
   "metadata": {},
   "outputs": [],
   "source": [
    "def cross_validation(classifier, X_train, y_train, cv=3, scoring='accuracy'):\n",
    "    \"\"\"\n",
    "    Cross-validation for classification problem\n",
    "    :param classifier: sklearn-compatible classifier\n",
    "    :param X_train: matrix of features\n",
    "    :param y_train: array of labels\n",
    "    :param cv: number of cross-validation splits\n",
    "    :param scoring: evaluation parameter\n",
    "    \"\"\"\n",
    "    \n",
    "    # название модели для красивого вывода\n",
    "    clf_name = str(classifier)\n",
    "    try:\n",
    "        clf_name = clf_name[:clf_name.index('(')]\n",
    "    except ValueError:\n",
    "        pass\n",
    "    cv_scores = cross_val_score(classifier, X_train, y_train, scoring=scoring, cv=cv)\n",
    "    mean_score = np.abs(np.mean(cv_scores))\n",
    "    print(f'Среднее значение \\033[1m{scoring}\\033[0m для {clf_name} на валидации: \\033[1m{mean_score:.4f}\\033[0m')\n",
    "    \n",
    "    \n",
    "def fit_evaluate(classifier, X_train, X_test, y_train, y_test,\n",
    "                 multiclass=False,\n",
    "                 metric=accuracy_score):\n",
    "    \"\"\"\n",
    "    Fits classifier on train data, evaluates on test\n",
    "    :param classifier: sklearn-compatible classifier\n",
    "    :param X_train: matrix of train features\n",
    "    :param y_train: array of train labels\n",
    "    :param X_test: matrix of test features\n",
    "    :param y_test: array of test labels\n",
    "    :param metric: sklearn-compatible metric function\n",
    "    \"\"\"\n",
    "    \n",
    "    # название модели для красивого вывода\n",
    "    clf_name = str(classifier)\n",
    "    try:\n",
    "        clf_name = clf_name[:clf_name.index('(')]\n",
    "    except ValueError:\n",
    "        pass\n",
    "    \n",
    "    # название метрики \n",
    "    metric_name = str(metric)\n",
    "    metric_name = metric_name[metric_name.index(' ')+1:metric_name.index(' at')]\n",
    "    classifier.fit(X_train, y_train)\n",
    "    if multiclass:\n",
    "        predictions = classifier.predict_proba(X_test)\n",
    "    else:\n",
    "        predictions = classifier.predict_proba(X_test)[:, 1]\n",
    "    print('Среднее значение \\033[1m{}\\033[0m для {} на отложенной выборке: \\033[1m{:.4f}\\033[0m'.format(\n",
    "        metric_name, clf_name, metric(y_test, predictions)))"
   ]
  },
  {
   "cell_type": "code",
   "execution_count": 11,
   "metadata": {},
   "outputs": [
    {
     "name": "stdout",
     "output_type": "stream",
     "text": [
      "Среднее значение \u001b[1mneg_log_loss\u001b[0m для LogisticRegression на валидации: \u001b[1m0.6040\u001b[0m\n",
      "Среднее значение \u001b[1mlog_loss\u001b[0m для LogisticRegression на отложенной выборке: \u001b[1m0.5857\u001b[0m\n"
     ]
    }
   ],
   "source": [
    "# логистическая регрессия\n",
    "logit = LogisticRegression(solver='lbfgs',random_state=rs, n_jobs=-1)\n",
    "\n",
    "# кросс-валидация\n",
    "cross_validation(logit, train_sparse, y_train, cv=5, scoring='neg_log_loss')\n",
    "\n",
    "# отложенная выборка\n",
    "fit_evaluate(logit, train_sparse, test_sparse, y_train , y_valid, multiclass=True, metric=log_loss)"
   ]
  },
  {
   "cell_type": "code",
   "execution_count": 12,
   "metadata": {},
   "outputs": [
    {
     "name": "stdout",
     "output_type": "stream",
     "text": [
      "Среднее значение \u001b[1mneg_log_loss\u001b[0m для LGBMClassifier на валидации: \u001b[1m0.8474\u001b[0m\n",
      "Среднее значение \u001b[1mlog_loss\u001b[0m для LGBMClassifier на отложенной выборке: \u001b[1m0.8196\u001b[0m\n"
     ]
    }
   ],
   "source": [
    "# бустинг\n",
    "lgbm = LGBMClassifier(random_state=rs, n_jobs=-1)\n",
    "\n",
    "# кросс-валидация\n",
    "cross_validation(lgbm, train_sparse.toarray(), y_train, cv=5, scoring='neg_log_loss')\n",
    "\n",
    "# отложенная выборка\n",
    "fit_evaluate(lgbm, train_sparse.toarray(), test_sparse.toarray(),\n",
    "             y_train , y_valid, multiclass=True, metric=log_loss)"
   ]
  },
  {
   "cell_type": "markdown",
   "metadata": {},
   "source": [
    "Логрег выглядит лучше всех без n-грамм"
   ]
  },
  {
   "cell_type": "markdown",
   "metadata": {},
   "source": [
    "## TF-IDF"
   ]
  },
  {
   "cell_type": "code",
   "execution_count": 13,
   "metadata": {},
   "outputs": [],
   "source": [
    "# преобразую в tf-idf вектора с n-граммами\n",
    "tfid_vec = TfidfVectorizer(ngram_range=(1, 3), max_features=50000)\n",
    "\n",
    "train_tfid = tfid_vec.fit_transform(train_tokenized)\n",
    "test_tfid = tfid_vec.transform(test_tokenized)"
   ]
  },
  {
   "cell_type": "code",
   "execution_count": 14,
   "metadata": {},
   "outputs": [
    {
     "name": "stdout",
     "output_type": "stream",
     "text": [
      "Среднее значение \u001b[1mneg_log_loss\u001b[0m для LogisticRegression на валидации: \u001b[1m0.7835\u001b[0m\n",
      "Среднее значение \u001b[1mlog_loss\u001b[0m для LogisticRegression на отложенной выборке: \u001b[1m0.6818\u001b[0m\n"
     ]
    }
   ],
   "source": [
    "# логистическая регрессия\n",
    "logit = LogisticRegression(solver='lbfgs',random_state=17, n_jobs=-1)\n",
    "\n",
    "# кросс-валидация\n",
    "cross_validation(logit, train_tfid, y_train, cv=5, scoring='neg_log_loss')\n",
    "\n",
    "# отложенная выборка\n",
    "fit_evaluate(logit, train_tfid, test_tfid, y_train , y_valid, multiclass=True, metric=log_loss)"
   ]
  },
  {
   "cell_type": "code",
   "execution_count": 15,
   "metadata": {},
   "outputs": [
    {
     "name": "stdout",
     "output_type": "stream",
     "text": [
      "Среднее значение \u001b[1mneg_log_loss\u001b[0m для LGBMClassifier на валидации: \u001b[1m0.8474\u001b[0m\n",
      "Среднее значение \u001b[1mlog_loss\u001b[0m для LGBMClassifier на отложенной выборке: \u001b[1m0.8196\u001b[0m\n"
     ]
    }
   ],
   "source": [
    "# бустинг\n",
    "lgbm = LGBMClassifier(random_state=17, n_jobs=-1)\n",
    "\n",
    "# кросс-валидация\n",
    "cross_validation(lgbm, train_tfid, y_train, cv=5, scoring='neg_log_loss')\n",
    "\n",
    "# отложенная выборка\n",
    "fit_evaluate(lgbm, train_tfid, test_tfid,\n",
    "             y_train , y_valid, multiclass=True, metric=log_loss)"
   ]
  },
  {
   "cell_type": "markdown",
   "metadata": {},
   "source": [
    "C n-граммами и tf-idf стало хуже."
   ]
  },
  {
   "cell_type": "code",
   "execution_count": 16,
   "metadata": {},
   "outputs": [
    {
     "name": "stdout",
     "output_type": "stream",
     "text": [
      "Доля верных ответов 0.8145\n"
     ]
    }
   ],
   "source": [
    "# доля верных ответов логрега c BoW\n",
    "\n",
    "logit.fit(train_sparse, y_train)\n",
    "preds = logit.predict_proba(test_sparse)\n",
    "pred_labes = [i.argmax(axis=0) for i in preds]\n",
    "\n",
    "print(f'Доля верных ответов {accuracy_score(y_valid, pred_labes):.4f}')"
   ]
  },
  {
   "cell_type": "markdown",
   "metadata": {},
   "source": [
    "## Feature engineering\n",
    "\n",
    "Добавлю метапризнаки:\n",
    "- кол-во символов\n",
    "- кол-во слов\n",
    "- кол-во символов в верхнем регистре \n",
    "- кол-во знаков препинания"
   ]
  },
  {
   "cell_type": "code",
   "execution_count": 17,
   "metadata": {},
   "outputs": [
    {
     "data": {
      "text/html": [
       "<div>\n",
       "<style scoped>\n",
       "    .dataframe tbody tr th:only-of-type {\n",
       "        vertical-align: middle;\n",
       "    }\n",
       "\n",
       "    .dataframe tbody tr th {\n",
       "        vertical-align: top;\n",
       "    }\n",
       "\n",
       "    .dataframe thead th {\n",
       "        text-align: right;\n",
       "    }\n",
       "</style>\n",
       "<table border=\"1\" class=\"dataframe\">\n",
       "  <thead>\n",
       "    <tr style=\"text-align: right;\">\n",
       "      <th></th>\n",
       "      <th>ID</th>\n",
       "      <th>text</th>\n",
       "      <th>label</th>\n",
       "      <th>letters_cnt</th>\n",
       "      <th>words_cnt</th>\n",
       "      <th>uppercase_cnt</th>\n",
       "      <th>punctuation_cnt</th>\n",
       "    </tr>\n",
       "  </thead>\n",
       "  <tbody>\n",
       "    <tr>\n",
       "      <th>611</th>\n",
       "      <td>BOHSNXCN</td>\n",
       "      <td>What should I do to stop alcoholism?</td>\n",
       "      <td>3</td>\n",
       "      <td>30</td>\n",
       "      <td>7</td>\n",
       "      <td>2</td>\n",
       "      <td>1</td>\n",
       "    </tr>\n",
       "    <tr>\n",
       "      <th>612</th>\n",
       "      <td>GVDXRQPY</td>\n",
       "      <td>How to become my oldself again</td>\n",
       "      <td>2</td>\n",
       "      <td>25</td>\n",
       "      <td>6</td>\n",
       "      <td>1</td>\n",
       "      <td>0</td>\n",
       "    </tr>\n",
       "    <tr>\n",
       "      <th>613</th>\n",
       "      <td>IO4JHIQS</td>\n",
       "      <td>How can someone stop it?</td>\n",
       "      <td>3</td>\n",
       "      <td>20</td>\n",
       "      <td>5</td>\n",
       "      <td>1</td>\n",
       "      <td>1</td>\n",
       "    </tr>\n",
       "    <tr>\n",
       "      <th>614</th>\n",
       "      <td>1DS3P1XO</td>\n",
       "      <td>I feel unworthy</td>\n",
       "      <td>0</td>\n",
       "      <td>13</td>\n",
       "      <td>3</td>\n",
       "      <td>1</td>\n",
       "      <td>0</td>\n",
       "    </tr>\n",
       "    <tr>\n",
       "      <th>615</th>\n",
       "      <td>ORF71PVQ</td>\n",
       "      <td>I feel so discouraged with life</td>\n",
       "      <td>0</td>\n",
       "      <td>26</td>\n",
       "      <td>6</td>\n",
       "      <td>1</td>\n",
       "      <td>0</td>\n",
       "    </tr>\n",
       "  </tbody>\n",
       "</table>\n",
       "</div>"
      ],
      "text/plain": [
       "           ID                                  text  label  letters_cnt  \\\n",
       "611  BOHSNXCN  What should I do to stop alcoholism?      3           30   \n",
       "612  GVDXRQPY        How to become my oldself again      2           25   \n",
       "613  IO4JHIQS              How can someone stop it?      3           20   \n",
       "614  1DS3P1XO                      I feel unworthy       0           13   \n",
       "615  ORF71PVQ       I feel so discouraged with life      0           26   \n",
       "\n",
       "     words_cnt  uppercase_cnt  punctuation_cnt  \n",
       "611          7              2                1  \n",
       "612          6              1                0  \n",
       "613          5              1                1  \n",
       "614          3              1                0  \n",
       "615          6              1                0  "
      ]
     },
     "execution_count": 17,
     "metadata": {},
     "output_type": "execute_result"
    }
   ],
   "source": [
    "# считаем все символы, кроме пробелов\n",
    "df['letters_cnt'] = df['text'].apply(lambda x: len(re.findall(r'[\\S]', x)))\n",
    "\n",
    "# считаем кол-во слов \n",
    "df['words_cnt'] = df['text'].apply(lambda x: len(re.findall(r'[\\w\\d]+', x)))\n",
    "\n",
    "# считаем кол-во слов в верхнем регистре \n",
    "df['uppercase_cnt'] = df['text'].apply(lambda x: len(re.findall(r'[A-Z]+', x)))\n",
    "\n",
    "# считаем кол-во знаков препинания \n",
    "df['punctuation_cnt'] = df['text'].apply(lambda x: len(re.findall(r'[-.?!)(,:]', x)))\n",
    "\n",
    "df.tail(5)"
   ]
  },
  {
   "cell_type": "code",
   "execution_count": 18,
   "metadata": {},
   "outputs": [],
   "source": [
    "def dist_plot(df, feature, target):\n",
    "    \"\"\"\n",
    "    Строит график плотности распределения по каждому из значений\n",
    "    целевой переменной (до 8 значений)\n",
    "    \"\"\"\n",
    "    \n",
    "    matplotlib_colors = ['g', 'r', 'b', 'c', 'm', 'y', 'k', 'w']\n",
    "    plt_colors = dict(zip(range(len(matplotlib_colors)), matplotlib_colors))\n",
    "    \n",
    "    for idx, value in enumerate(df[target].unique()):\n",
    "        sns.kdeplot(df[df[target] == value][feature], label=value, color=plt_colors[idx])\n",
    "    \n",
    "    plt.title('Распределение {}'.format(feature))\n",
    "    plt.show()"
   ]
  },
  {
   "cell_type": "code",
   "execution_count": 19,
   "metadata": {},
   "outputs": [
    {
     "data": {
      "image/png": "[encoded data removed]",
      "text/plain": [
       "<Figure size 720x576 with 1 Axes>"
      ]
     },
     "metadata": {},
     "output_type": "display_data"
    }
   ],
   "source": [
    "dist_plot(df, 'letters_cnt', 'label')"
   ]
  },
  {
   "cell_type": "markdown",
   "metadata": {},
   "source": [
    "Не похоже что по этому признаку можно хорошо разделить тексты, но пока оставлю."
   ]
  },
  {
   "cell_type": "code",
   "execution_count": 20,
   "metadata": {},
   "outputs": [
    {
     "data": {
      "image/png": "[encoded data removed]",
      "text/plain": [
       "<Figure size 720x576 with 1 Axes>"
      ]
     },
     "metadata": {},
     "output_type": "display_data"
    }
   ],
   "source": [
    "dist_plot(df, 'words_cnt', 'label')"
   ]
  },
  {
   "cell_type": "markdown",
   "metadata": {},
   "source": [
    "Здесь ситуация схожая."
   ]
  },
  {
   "cell_type": "code",
   "execution_count": 21,
   "metadata": {},
   "outputs": [],
   "source": [
    "def feature_stat(data, feature, target, ylim=None):\n",
    "    \"\"\"\n",
    "    Выводит гистограмму и среднее значение целевой\n",
    "    по группе.\n",
    "    Подходит для категориальных переменных\n",
    "    \"\"\"\n",
    "    \n",
    "    # выводим долю таргета по каждой группе\n",
    "    print('\\033[1m{} stats: \\033[0m'.format(feature))\n",
    "    print()\n",
    "    for value in sort(df[feature].unique()):\n",
    "        print('Mean target in group {}: {:.4f}'.format(value, df[df[feature]==value][target].mean()))\n",
    "        \n",
    "    x = [i for i in data.groupby(feature)[target].count().index]\n",
    "    y_cnt = [i for i in data.groupby(feature)[target].count().values]\n",
    "    y_mean = [i for i in data.groupby(feature)[target].mean().values]\n",
    "    ind = np.arange(len(data[feature].unique()))\n",
    "    \n",
    "    fig, ax1 = plt.subplots()\n",
    "    ax1.bar(ind, y_cnt, align='center', color='royalblue', width=0.4, alpha=0.8)\n",
    "    ax1.set_xlabel(feature)\n",
    "    ax1.set_ylabel('count', color='b',)\n",
    "    ax1.tick_params('y', colors='b')\n",
    "    ax2 = ax1.twinx()\n",
    "    ax2.plot(ind, y_mean, marker= 'o', linestyle='-', color='r', linewidth=5)\n",
    "    ax2.set_ylabel(f'{target} mean rate', color='r')\n",
    "    ax2.tick_params('y', colors='r')\n",
    "    plt.xticks(ind, x)\n",
    "    ax1.set_xticklabels(x, fontsize=14)\n",
    "    \n",
    "    if ylim:\n",
    "        ax2.set_ylim(ylim)\n",
    "        \n",
    "    plt.title(f'{feature} and {target}', fontsize=20)\n",
    "    plt.grid(False)\n",
    "    plt.show()"
   ]
  },
  {
   "cell_type": "code",
   "execution_count": 22,
   "metadata": {},
   "outputs": [
    {
     "name": "stdout",
     "output_type": "stream",
     "text": [
      "\u001b[1mlabel stats: \u001b[0m\n",
      "\n",
      "Mean target in group 0: 1.3352\n",
      "Mean target in group 1: 1.1034\n",
      "Mean target in group 2: 1.1818\n",
      "Mean target in group 3: 1.2357\n"
     ]
    },
    {
     "data": {
      "image/png": "[encoded data removed]",
      "text/plain": [
       "<Figure size 720x576 with 2 Axes>"
      ]
     },
     "metadata": {},
     "output_type": "display_data"
    }
   ],
   "source": [
    "feature_stat(df, 'label', 'uppercase_cnt')"
   ]
  },
  {
   "cell_type": "code",
   "execution_count": 23,
   "metadata": {},
   "outputs": [
    {
     "name": "stdout",
     "output_type": "stream",
     "text": [
      "\u001b[1mlabel stats: \u001b[0m\n",
      "\n",
      "Mean target in group 0: 0.4205\n",
      "Mean target in group 1: 0.9138\n",
      "Mean target in group 2: 0.4545\n",
      "Mean target in group 3: 0.5429\n"
     ]
    },
    {
     "data": {
      "image/png": "[encoded data removed]",
      "text/plain": [
       "<Figure size 720x576 with 2 Axes>"
      ]
     },
     "metadata": {},
     "output_type": "display_data"
    }
   ],
   "source": [
    "feature_stat(df, 'label', 'punctuation_cnt')"
   ]
  },
  {
   "cell_type": "markdown",
   "metadata": {},
   "source": [
    "## Характерные слова"
   ]
  },
  {
   "cell_type": "markdown",
   "metadata": {},
   "source": [
    "Есть также идея поисследовать наиболее частотные и, наоборот, редкие слова в каждой группе."
   ]
  },
  {
   "cell_type": "code",
   "execution_count": 24,
   "metadata": {},
   "outputs": [],
   "source": [
    "def build_vocabulary(tokenized_texts, min_count=5):\n",
    "    \"\"\"\n",
    "    Builds vocabulary \n",
    "    :param tokenized_texts: array of tokens\n",
    "    :min_count: minimum count for specific token\n",
    "    \"\"\"\n",
    "    \n",
    "    word_counts = collections.defaultdict(int)\n",
    "    \n",
    "    for txt in tokenized_texts:\n",
    "        for token in txt:\n",
    "            word_counts[token] += 1\n",
    "    \n",
    "    # убрать слишком редкие слова\n",
    "    word_counts = {word: cnt for word, cnt in word_counts.items()\n",
    "                   if cnt >= min_count}\n",
    "    \n",
    "    # отсортировать по убыванию\n",
    "    sorted_word_counts = sorted(word_counts.items(),\n",
    "                                reverse=True,\n",
    "                                key=lambda pair: pair[1])\n",
    "    \n",
    "    # нумеруем слова\n",
    "    word2id = {word: i for i, (word, _) in enumerate(sorted_word_counts)}\n",
    "    \n",
    "    return word2id"
   ]
  },
  {
   "cell_type": "code",
   "execution_count": 25,
   "metadata": {},
   "outputs": [
    {
     "name": "stdout",
     "output_type": "stream",
     "text": [
      "{'Depression': 0, 'Drugs': 1, 'Suicide': 2, 'Alcohol': 3}\n"
     ]
    }
   ],
   "source": [
    "print(targets_encoder)"
   ]
  },
  {
   "cell_type": "code",
   "execution_count": 26,
   "metadata": {},
   "outputs": [
    {
     "name": "stdout",
     "output_type": "stream",
     "text": [
      "depression\n",
      "depressed\n",
      "feeling\n",
      "better\n",
      "lonely\n",
      "alone\n",
      "myself\n",
      "overcome\n",
      "world\n",
      "issues\n",
      "could\n"
     ]
    }
   ],
   "source": [
    "# Depression\n",
    "depression = tokenize_corpus(df[df['label'] == 0]['text'], min_token_size=5)\n",
    "\n",
    "depression_dict = build_vocabulary(depression, min_count=1)\n",
    "\n",
    "# выведу 10 самых популярных и сохраню в список\n",
    "depression_top10 = list()\n",
    "\n",
    "for key, value in depression_dict.items():\n",
    "    if value <= 10:\n",
    "        depression_top10.append(key)\n",
    "        print(key)"
   ]
  },
  {
   "cell_type": "code",
   "execution_count": 27,
   "metadata": {},
   "outputs": [
    {
     "name": "stdout",
     "output_type": "stream",
     "text": [
      "bhang\n",
      "effects\n",
      "smoking\n",
      "taking\n",
      "smoke\n",
      "avoid\n",
      "drugs\n",
      "hallucinations\n",
      "addiction\n",
      "could\n",
      "using\n"
     ]
    }
   ],
   "source": [
    "# Drugs\n",
    "drugs = tokenize_corpus(df[df['label'] == 1]['text'], min_token_size=5)\n",
    "\n",
    "drugs_dict = build_vocabulary(drugs, min_count=1)\n",
    "\n",
    "# выведу 10 самых популярных и сохраню в список\n",
    "drugs_top10 = list()\n",
    "\n",
    "for key, value in drugs_dict.items():\n",
    "    if value <= 10:\n",
    "        drugs_top10.append(key)\n",
    "        print(key)"
   ]
  },
  {
   "cell_type": "code",
   "execution_count": 28,
   "metadata": {},
   "outputs": [
    {
     "name": "stdout",
     "output_type": "stream",
     "text": [
      "suicide\n",
      "overcome\n",
      "thoughts\n",
      "causes\n",
      "suicidal\n",
      "sought\n",
      "assistance\n",
      "people\n",
      "commiting\n",
      "avoid\n",
      "again\n"
     ]
    }
   ],
   "source": [
    "# Suicide\n",
    "suicide = tokenize_corpus(df[df['label'] == 2]['text'], min_token_size=5)\n",
    "\n",
    "suicide_dict = build_vocabulary(suicide, min_count=1)\n",
    "\n",
    "# выведу 10 самых популярных и сохраню в список\n",
    "suicide_top10 = list()\n",
    "\n",
    "for key, value in suicide_dict.items():\n",
    "    if value <= 10:\n",
    "        suicide_top10.append(key)\n",
    "        print(key)"
   ]
  },
  {
   "cell_type": "code",
   "execution_count": 29,
   "metadata": {},
   "outputs": [
    {
     "name": "stdout",
     "output_type": "stream",
     "text": [
      "alcohol\n",
      "taking\n",
      "alcoholism\n",
      "avoid\n",
      "drinking\n",
      "effects\n",
      "using\n",
      "addiction\n",
      "overcome\n",
      "should\n",
      "drink\n"
     ]
    }
   ],
   "source": [
    "# Alcohol\n",
    "\n",
    "alcohol = tokenize_corpus(df[df['label'] == 3]['text'], min_token_size=5)\n",
    "\n",
    "alcohol_dict = build_vocabulary(alcohol, min_count=1)\n",
    "\n",
    "# выведу 10 самых популярных и сохраню в список\n",
    "alcohol_top10 = list()\n",
    "\n",
    "for key, value in alcohol_dict.items():\n",
    "    if value <= 10:\n",
    "        alcohol_top10.append(key)\n",
    "        print(key)"
   ]
  },
  {
   "cell_type": "markdown",
   "metadata": {},
   "source": [
    "Кажется, что проверять вхождение этих слов в текст неплохая идея.  \n",
    "Вероятно, для улучшения результата нужно будет прикрутить стемминг или лемматизацию."
   ]
  },
  {
   "cell_type": "code",
   "execution_count": 30,
   "metadata": {},
   "outputs": [],
   "source": [
    "# избавлюсь от общих частотных слов \n",
    "\n",
    "depression_top10 = [token for token in depression_top10\n",
    "                    if token not in drugs_top10+suicide_top10+alcohol_top10]\n",
    "\n",
    "drugs_top10 = [token for token in drugs_top10\n",
    "                    if token not in depression_top10+suicide_top10+alcohol_top10]\n",
    "\n",
    "suicide_top10 = [token for token in suicide_top10\n",
    "                    if token not in depression_top10+drugs_top10+alcohol_top10]\n",
    "\n",
    "alcohol_top10 = [token for token in alcohol_top10\n",
    "                    if token not in depression_top10+drugs_top10+suicide_top10]"
   ]
  },
  {
   "cell_type": "code",
   "execution_count": 31,
   "metadata": {},
   "outputs": [],
   "source": [
    "# для удобства добавлю series со списком токенов\n",
    "\n",
    "df['text_tokenized'] = df['text'].apply(tokenize_text_simple_regex)\n",
    "df['depression_top'] = df['text_tokenized'].apply(lambda x:\n",
    "                                                  len([i for i in x if i in depression_top10]))\n",
    "df['drugs_top'] = df['text_tokenized'].apply(lambda x:\n",
    "                                                  len([i for i in x if i in drugs_top10]))\n",
    "df['suicide_top'] = df['text_tokenized'].apply(lambda x:\n",
    "                                                  len([i for i in x if i in suicide_top10]))\n",
    "df['alcohol_top'] = df['text_tokenized'].apply(lambda x:\n",
    "                                                  len([i for i in x if i in alcohol_top10]))\n",
    "\n",
    "df.drop('text_tokenized', axis=1, inplace=True)"
   ]
  },
  {
   "cell_type": "code",
   "execution_count": 32,
   "metadata": {},
   "outputs": [
    {
     "data": {
      "text/html": [
       "<div>\n",
       "<style scoped>\n",
       "    .dataframe tbody tr th:only-of-type {\n",
       "        vertical-align: middle;\n",
       "    }\n",
       "\n",
       "    .dataframe tbody tr th {\n",
       "        vertical-align: top;\n",
       "    }\n",
       "\n",
       "    .dataframe thead th {\n",
       "        text-align: right;\n",
       "    }\n",
       "</style>\n",
       "<table border=\"1\" class=\"dataframe\">\n",
       "  <thead>\n",
       "    <tr style=\"text-align: right;\">\n",
       "      <th></th>\n",
       "      <th>ID</th>\n",
       "      <th>text</th>\n",
       "      <th>label</th>\n",
       "      <th>letters_cnt</th>\n",
       "      <th>words_cnt</th>\n",
       "      <th>uppercase_cnt</th>\n",
       "      <th>punctuation_cnt</th>\n",
       "      <th>depression_top</th>\n",
       "      <th>drugs_top</th>\n",
       "      <th>suicide_top</th>\n",
       "      <th>alcohol_top</th>\n",
       "    </tr>\n",
       "  </thead>\n",
       "  <tbody>\n",
       "    <tr>\n",
       "      <th>0</th>\n",
       "      <td>SUAVK39Z</td>\n",
       "      <td>I feel that it was better I dieAm happy</td>\n",
       "      <td>0</td>\n",
       "      <td>31</td>\n",
       "      <td>9</td>\n",
       "      <td>3</td>\n",
       "      <td>0</td>\n",
       "      <td>1</td>\n",
       "      <td>0</td>\n",
       "      <td>0</td>\n",
       "      <td>0</td>\n",
       "    </tr>\n",
       "    <tr>\n",
       "      <th>1</th>\n",
       "      <td>9JDAGUV3</td>\n",
       "      <td>Why do I get hallucinations?</td>\n",
       "      <td>1</td>\n",
       "      <td>24</td>\n",
       "      <td>5</td>\n",
       "      <td>2</td>\n",
       "      <td>1</td>\n",
       "      <td>0</td>\n",
       "      <td>1</td>\n",
       "      <td>0</td>\n",
       "      <td>0</td>\n",
       "    </tr>\n",
       "    <tr>\n",
       "      <th>2</th>\n",
       "      <td>419WR1LQ</td>\n",
       "      <td>I am stresseed due to lack of financial suppor...</td>\n",
       "      <td>0</td>\n",
       "      <td>47</td>\n",
       "      <td>11</td>\n",
       "      <td>1</td>\n",
       "      <td>0</td>\n",
       "      <td>0</td>\n",
       "      <td>0</td>\n",
       "      <td>0</td>\n",
       "      <td>0</td>\n",
       "    </tr>\n",
       "    <tr>\n",
       "      <th>3</th>\n",
       "      <td>6UY7DX6Q</td>\n",
       "      <td>Why is life important?</td>\n",
       "      <td>2</td>\n",
       "      <td>19</td>\n",
       "      <td>4</td>\n",
       "      <td>1</td>\n",
       "      <td>1</td>\n",
       "      <td>0</td>\n",
       "      <td>0</td>\n",
       "      <td>0</td>\n",
       "      <td>0</td>\n",
       "    </tr>\n",
       "    <tr>\n",
       "      <th>4</th>\n",
       "      <td>FYC0FTFB</td>\n",
       "      <td>How could I be helped to go through the depres...</td>\n",
       "      <td>0</td>\n",
       "      <td>42</td>\n",
       "      <td>10</td>\n",
       "      <td>2</td>\n",
       "      <td>1</td>\n",
       "      <td>1</td>\n",
       "      <td>1</td>\n",
       "      <td>0</td>\n",
       "      <td>0</td>\n",
       "    </tr>\n",
       "  </tbody>\n",
       "</table>\n",
       "</div>"
      ],
      "text/plain": [
       "         ID                                               text  label  \\\n",
       "0  SUAVK39Z            I feel that it was better I dieAm happy      0   \n",
       "1  9JDAGUV3                       Why do I get hallucinations?      1   \n",
       "2  419WR1LQ  I am stresseed due to lack of financial suppor...      0   \n",
       "3  6UY7DX6Q                             Why is life important?      2   \n",
       "4  FYC0FTFB  How could I be helped to go through the depres...      0   \n",
       "\n",
       "   letters_cnt  words_cnt  uppercase_cnt  punctuation_cnt  depression_top  \\\n",
       "0           31          9              3                0               1   \n",
       "1           24          5              2                1               0   \n",
       "2           47         11              1                0               0   \n",
       "3           19          4              1                1               0   \n",
       "4           42         10              2                1               1   \n",
       "\n",
       "   drugs_top  suicide_top  alcohol_top  \n",
       "0          0            0            0  \n",
       "1          1            0            0  \n",
       "2          0            0            0  \n",
       "3          0            0            0  \n",
       "4          1            0            0  "
      ]
     },
     "execution_count": 32,
     "metadata": {},
     "output_type": "execute_result"
    }
   ],
   "source": [
    "df.head()"
   ]
  },
  {
   "cell_type": "markdown",
   "metadata": {},
   "source": [
    "## Построение моделей"
   ]
  },
  {
   "cell_type": "code",
   "execution_count": 33,
   "metadata": {},
   "outputs": [],
   "source": [
    "# CountVectorizer + новые фичи\n",
    "\n",
    "# разобью на трейн и валидацию\n",
    "X = df.drop(['ID', 'label'], axis=1)\n",
    "y = df['label']\n",
    "\n",
    "X_train, X_valid, y_train, y_valid = train_test_split(X, y, test_size=0.2, random_state=rs, stratify=y)\n",
    "\n",
    "# формируем sparse-матрицу текстов\n",
    "vectorizer = CountVectorizer(tokenizer=tokenize_text_simple_regex)\n",
    "\n",
    "train_texts_vec = vectorizer.fit_transform(X_train['text'].values)\n",
    "valid_texts_vec = vectorizer.transform(X_valid['text'].values)"
   ]
  },
  {
   "cell_type": "code",
   "execution_count": 34,
   "metadata": {},
   "outputs": [],
   "source": [
    "# стандартизация данных\n",
    "\n",
    "scaler = StandardScaler()\n",
    "scaler.fit(X_train.drop('text', axis=1).values) # .reshape(-1, 1)\n",
    "\n",
    "X_train = scaler.transform(X_train.drop('text', axis=1).values)\n",
    "X_valid = scaler.transform(X_valid.drop('text', axis=1).values)"
   ]
  },
  {
   "cell_type": "code",
   "execution_count": 35,
   "metadata": {},
   "outputs": [],
   "source": [
    "# объединение с BoW\n",
    "\n",
    "X_train = csr_matrix(hstack([train_texts_vec.toarray(), X_train]))\n",
    "X_valid = csr_matrix(hstack([valid_texts_vec.toarray(), X_valid]))"
   ]
  },
  {
   "cell_type": "code",
   "execution_count": 36,
   "metadata": {},
   "outputs": [
    {
     "name": "stdout",
     "output_type": "stream",
     "text": [
      "Среднее значение \u001b[1mneg_log_loss\u001b[0m для LogisticRegression на валидации: \u001b[1m0.5323\u001b[0m\n",
      "Среднее значение \u001b[1mlog_loss\u001b[0m для LogisticRegression на отложенной выборке: \u001b[1m0.5452\u001b[0m\n"
     ]
    }
   ],
   "source": [
    "# логистическая регрессия\n",
    "\n",
    "cross_validation(logit, X_train, y_train, cv=5, scoring='neg_log_loss')\n",
    "fit_evaluate(logit, X_train, X_valid, y_train, y_valid,  multiclass=True, metric=log_loss)"
   ]
  },
  {
   "cell_type": "code",
   "execution_count": 37,
   "metadata": {},
   "outputs": [
    {
     "name": "stdout",
     "output_type": "stream",
     "text": [
      "Среднее значение \u001b[1mneg_log_loss\u001b[0m для LGBMClassifier на валидации: \u001b[1m0.6645\u001b[0m\n",
      "Среднее значение \u001b[1mlog_loss\u001b[0m для LGBMClassifier на отложенной выборке: \u001b[1m0.6975\u001b[0m\n"
     ]
    }
   ],
   "source": [
    "# бустинг \n",
    "\n",
    "cross_validation(lgbm, X_train, y_train, cv=5, scoring='neg_log_loss')\n",
    "fit_evaluate(lgbm, X_train, X_valid, y_train, y_valid,  multiclass=True, metric=log_loss)"
   ]
  },
  {
   "cell_type": "markdown",
   "metadata": {},
   "source": [
    "Результат улучшился, особенно у логистической регрессии."
   ]
  },
  {
   "cell_type": "code",
   "execution_count": 38,
   "metadata": {},
   "outputs": [
    {
     "name": "stdout",
     "output_type": "stream",
     "text": [
      "Доля верных ответов 0.8145\n"
     ]
    }
   ],
   "source": [
    "# доля верных ответов логрега c BoW и новыми фичами\n",
    "\n",
    "logit.fit(X_train, y_train)\n",
    "preds = logit.predict_proba(X_valid)\n",
    "pred_labes = [i.argmax(axis=0) for i in preds]\n",
    "\n",
    "print(f'Доля верных ответов {accuracy_score(y_valid, pred_labes):.4f}')"
   ]
  },
  {
   "cell_type": "markdown",
   "metadata": {},
   "source": [
    "## Подбор гиперпараметров"
   ]
  },
  {
   "cell_type": "code",
   "execution_count": 39,
   "metadata": {},
   "outputs": [],
   "source": [
    "# импорт библиотек\n",
    "\n",
    "from hyperopt import hp\n",
    "from hyperopt import fmin, tpe, hp, STATUS_OK, Trials"
   ]
  },
  {
   "cell_type": "code",
   "execution_count": 40,
   "metadata": {},
   "outputs": [],
   "source": [
    "def score(params):\n",
    "    solver=params['solver']['solver']\n",
    "    penalty=params['solver']['penalty']\n",
    "    logit=LogisticRegression(penalty=penalty, C=params['C'],\n",
    "                           solver=solver, tol=params['tol'],\n",
    "                           l1_ratio=params['l1_ratio'], max_iter=500)\n",
    "    logit.fit(X_train, y_train)\n",
    "    predictions = logit.predict_proba(X_valid)\n",
    "    score = log_loss(y_valid, predictions)\n",
    "    return {'loss': score, 'status': STATUS_OK}"
   ]
  },
  {
   "cell_type": "code",
   "execution_count": 41,
   "metadata": {},
   "outputs": [],
   "source": [
    "def optimize(trials):\n",
    "    space = {\n",
    "        'C': hp.loguniform('x_C', -10, 1),\n",
    "        'solver':  hp.choice('x_solver',[{'solver':'newton-cg', 'penalty': hp.choice('p_newton',['none','l2'])},\n",
    "                                         {'solver':'lbfgs', 'penalty': hp.choice('p_lbfgs',['none','l2'])},\n",
    "                                         {'solver': 'liblinear', 'penalty': hp.choice('p_lib',['l1','l2'])}, \n",
    "                                         {'solver': 'sag', 'penalty': hp.choice('p_sag',['l2','none'])}, \n",
    "                                         {'solver':'saga', 'penalty':'elasticnet'}]),\n",
    "       'tol': hp.loguniform('x_tol', -13, -1),\n",
    "       'l1_ratio': hp.uniform('x_l1', 0, 1)\n",
    "        }\n",
    "   \n",
    "    best = fmin(score, space, algo=tpe.suggest, trials=trials, max_evals=100)\n",
    "    return best"
   ]
  },
  {
   "cell_type": "code",
   "execution_count": 42,
   "metadata": {},
   "outputs": [
    {
     "name": "stdout",
     "output_type": "stream",
     "text": [
      "100%|██████████| 100/100 [00:11<00:00,  8.49trial/s, best loss: 0.5432917051593972]\n"
     ]
    },
    {
     "data": {
      "text/plain": [
       "{'p_sag': 0,\n",
       " 'x_C': 1.2107683679560208,\n",
       " 'x_l1': 0.6461413199969754,\n",
       " 'x_solver': 3,\n",
       " 'x_tol': 0.00022378128287848237}"
      ]
     },
     "execution_count": 42,
     "metadata": {},
     "output_type": "execute_result"
    }
   ],
   "source": [
    "trials = Trials()\n",
    "best_params = optimize(trials)\n",
    "best_params"
   ]
  },
  {
   "cell_type": "code",
   "execution_count": 43,
   "metadata": {},
   "outputs": [
    {
     "data": {
      "text/plain": [
       "0.5447300528352471"
      ]
     },
     "execution_count": 43,
     "metadata": {},
     "output_type": "execute_result"
    }
   ],
   "source": [
    "logit = LogisticRegression(C=best_params['x_C'], solver='newton-cg', penalty='l2',\n",
    "                           l1_ratio=best_params['x_l1'], tol=best_params['x_tol'],\n",
    "                           max_iter=500\n",
    "                          )\n",
    "\n",
    "logit.fit(X_train, y_train)\n",
    "preds = logit.predict_proba(X_valid)\n",
    "log_loss(y_valid, preds)"
   ]
  },
  {
   "cell_type": "code",
   "execution_count": 44,
   "metadata": {},
   "outputs": [
    {
     "name": "stdout",
     "output_type": "stream",
     "text": [
      "Доля верных ответов 0.8145\n"
     ]
    }
   ],
   "source": [
    "# доля верных ответов логрега c BoW и новыми фичами и гиперпараметрами\n",
    "\n",
    "pred_labes = [i.argmax(axis=0) for i in preds]\n",
    "\n",
    "print(f'Доля верных ответов {accuracy_score(y_valid, pred_labes):.4f}')"
   ]
  }
 ],
 "metadata": {
  "kernelspec": {
   "display_name": "Python 3",
   "language": "python",
   "name": "python3"
  },
  "language_info": {
   "codemirror_mode": {
    "name": "ipython",
    "version": 3
   },
   "file_extension": ".py",
   "mimetype": "text/x-python",
   "name": "python",
   "nbconvert_exporter": "python",
   "pygments_lexer": "ipython3",
   "version": "3.6.8"
  }
 },
 "nbformat": 4,
 "nbformat_minor": 4
}
