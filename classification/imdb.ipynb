{
 "cells": [
  {
   "cell_type": "markdown",
   "metadata": {},
   "source": [
    "## Классификация отзывов на IMDB"
   ]
  },
  {
   "cell_type": "code",
   "execution_count": 1,
   "metadata": {},
   "outputs": [],
   "source": [
    "# отключение ворнингов\n",
    "import warnings\n",
    "warnings.filterwarnings('ignore')\n",
    "\n",
    "# импорт библиотек\n",
    "from scipy.sparse import csr_matrix\n",
    "from sklearn.feature_extraction.text import CountVectorizer\n",
    "from sklearn.linear_model import LogisticRegression, SGDClassifier\n",
    "from sklearn.model_selection import train_test_split, cross_val_score\n",
    "from sklearn.metrics import accuracy_score\n",
    "import gc\n",
    "import numpy as np\n",
    "import pandas as pd"
   ]
  },
  {
   "cell_type": "code",
   "execution_count": 2,
   "metadata": {},
   "outputs": [],
   "source": [
    "# чтение данных\n",
    "\n",
    "def read_data(path_to_data):\n",
    "    df = pd.read_csv(path_to_data)\n",
    "    df['sentiment'] = df['sentiment'].map({'positive':0, 'negative':1})\n",
    "    return df['review'], df['sentiment']\n",
    "\n",
    "X, y = read_data('data/IMDB Dataset.csv')"
   ]
  },
  {
   "cell_type": "code",
   "execution_count": 3,
   "metadata": {},
   "outputs": [
    {
     "name": "stdout",
     "output_type": "stream",
     "text": [
      "Number of 1/0 classes elements in train: [17500 17500]\n",
      "Number of 1/0 classes elements in test: [7500 7500]\n"
     ]
    }
   ],
   "source": [
    "# разделение данных на трейн и тест\n",
    "\n",
    "X_train, X_test, y_train, y_test = train_test_split(X, y,\n",
    "                                                   test_size=0.3,\n",
    "                                                   stratify=y)\n",
    "\n",
    "print('Number of 1/0 classes elements in train: {}'.format(np.bincount(y_train)))\n",
    "print('Number of 1/0 classes elements in test: {}'.format(np.bincount(y_test)))"
   ]
  },
  {
   "cell_type": "markdown",
   "metadata": {},
   "source": [
    "Целевой класс сбалансирован, значит можно применить accuracy."
   ]
  },
  {
   "cell_type": "markdown",
   "metadata": {},
   "source": [
    "### Bag of words"
   ]
  },
  {
   "cell_type": "code",
   "execution_count": 4,
   "metadata": {},
   "outputs": [],
   "source": [
    "# перевод данных в разреженные матрицы\n",
    "\n",
    "cv = CountVectorizer(ngram_range=(1,2)) # использую биграммы\n",
    "\n",
    "X_train_sparse = cv.fit_transform(X_train)\n",
    "X_test_sparse = cv.transform(X_test)"
   ]
  },
  {
   "cell_type": "markdown",
   "metadata": {},
   "source": [
    "### Обучение моделей"
   ]
  },
  {
   "cell_type": "code",
   "execution_count": 5,
   "metadata": {},
   "outputs": [],
   "source": [
    "# буду обучать логистическую регресcию и SGDClassifier\n",
    "\n",
    "logit = LogisticRegression(solver='lbfgs',random_state=17, n_jobs=-1)\n",
    "sgd_clf = SGDClassifier(loss='log', max_iter=100, random_state=17, n_jobs=-1)"
   ]
  },
  {
   "cell_type": "code",
   "execution_count": 6,
   "metadata": {},
   "outputs": [],
   "source": [
    "def cross_validation(classifier, X_train, y_train, cv=3, scoring='accuracy'):\n",
    "    clf_name = str(classifier)\n",
    "    clf_name = clf_name[:clf_name.index('(')]\n",
    "    cv_scores = cross_val_score(classifier, X_train, y_train, scoring=scoring, cv=cv)\n",
    "    print('Average accuracy on CV of {} is {}'.format(clf_name, np.mean(cv_scores)))\n",
    "    \n",
    "def fit_evaluate(classifier, X_train, X_test, y_train, y_test):\n",
    "    clf_name = str(classifier)\n",
    "    clf_name = clf_name[:clf_name.index('(')]\n",
    "    classifier.fit(X_train, y_train)\n",
    "    predictions = classifier.predict(X_test)\n",
    "    print('Accuracy score of {} is {}'.format(clf_name, accuracy_score(y_test, predictions)))\n",
    "    return classifier"
   ]
  },
  {
   "cell_type": "code",
   "execution_count": 7,
   "metadata": {},
   "outputs": [
    {
     "name": "stdout",
     "output_type": "stream",
     "text": [
      "Average accuracy on CV of SGDClassifier is 0.8984285714285715\n"
     ]
    }
   ],
   "source": [
    "cross_validation(sgd_clf, X_train_sparse, y_train, scoring='accuracy', cv=5)                               "
   ]
  },
  {
   "cell_type": "code",
   "execution_count": 8,
   "metadata": {},
   "outputs": [
    {
     "name": "stdout",
     "output_type": "stream",
     "text": [
      "Average accuracy on CV of LogisticRegression is 0.9035142857142857\n"
     ]
    }
   ],
   "source": [
    "cross_validation(logit, X_train_sparse, y_train, scoring='accuracy', cv=5)                               "
   ]
  },
  {
   "cell_type": "code",
   "execution_count": 9,
   "metadata": {},
   "outputs": [
    {
     "name": "stdout",
     "output_type": "stream",
     "text": [
      "Accuracy score of LogisticRegression is 0.9088\n",
      "CPU times: user 852 ms, sys: 836 ms, total: 1.69 s\n",
      "Wall time: 57.2 s\n"
     ]
    },
    {
     "data": {
      "text/plain": [
       "LogisticRegression(C=1.0, class_weight=None, dual=False, fit_intercept=True,\n",
       "                   intercept_scaling=1, l1_ratio=None, max_iter=100,\n",
       "                   multi_class='warn', n_jobs=-1, penalty='l2', random_state=17,\n",
       "                   solver='lbfgs', tol=0.0001, verbose=0, warm_start=False)"
      ]
     },
     "execution_count": 9,
     "metadata": {},
     "output_type": "execute_result"
    }
   ],
   "source": [
    "%%time\n",
    "\n",
    "# обучу логистическую регрессию\n",
    "fit_evaluate(logit, X_train_sparse, X_test_sparse, y_train, y_test)"
   ]
  },
  {
   "cell_type": "code",
   "execution_count": 10,
   "metadata": {},
   "outputs": [
    {
     "name": "stdout",
     "output_type": "stream",
     "text": [
      "Accuracy score of SGDClassifier is 0.9064666666666666\n",
      "CPU times: user 4.31 s, sys: 4.28 s, total: 8.59 s\n",
      "Wall time: 2.61 s\n"
     ]
    },
    {
     "data": {
      "text/plain": [
       "SGDClassifier(alpha=0.0001, average=False, class_weight=None,\n",
       "              early_stopping=False, epsilon=0.1, eta0=0.0, fit_intercept=True,\n",
       "              l1_ratio=0.15, learning_rate='optimal', loss='log', max_iter=100,\n",
       "              n_iter_no_change=5, n_jobs=-1, penalty='l2', power_t=0.5,\n",
       "              random_state=17, shuffle=True, tol=0.001, validation_fraction=0.1,\n",
       "              verbose=0, warm_start=False)"
      ]
     },
     "execution_count": 10,
     "metadata": {},
     "output_type": "execute_result"
    }
   ],
   "source": [
    "%%time\n",
    "\n",
    "# обучу SGDClassifier\n",
    "fit_evaluate(sgd_clf, X_train_sparse, X_test_sparse, y_train, y_test)"
   ]
  },
  {
   "cell_type": "markdown",
   "metadata": {},
   "source": [
    "Модели показали сопоставимое качество. При этом, SGDClassifier обучился в разы быстрее."
   ]
  }
 ],
 "metadata": {
  "kernelspec": {
   "display_name": "Python 3",
   "language": "python",
   "name": "python3"
  },
  "language_info": {
   "codemirror_mode": {
    "name": "ipython",
    "version": 3
   },
   "file_extension": ".py",
   "mimetype": "text/x-python",
   "name": "python",
   "nbconvert_exporter": "python",
   "pygments_lexer": "ipython3",
   "version": "3.6.8"
  }
 },
 "nbformat": 4,
 "nbformat_minor": 4
}
